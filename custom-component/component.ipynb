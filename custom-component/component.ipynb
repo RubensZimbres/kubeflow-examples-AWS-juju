{
 "cells": [
  {
   "cell_type": "code",
   "execution_count": null,
   "id": "814e2983-1945-4d3d-b2f7-e2dde978333d",
   "metadata": {},
   "outputs": [],
   "source": [
    "!pip install kfp --upgrade -q"
   ]
  },
  {
   "cell_type": "code",
   "execution_count": null,
   "id": "ec6b1652-26c6-46ae-990c-96c8202a4ffd",
   "metadata": {},
   "outputs": [],
   "source": [
    "import kfp\n",
    "from kfp import dsl"
   ]
  },
  {
   "cell_type": "code",
   "execution_count": null,
   "id": "857c8a12-4deb-45bf-83cd-81a52805a084",
   "metadata": {},
   "outputs": [],
   "source": [
    "web_downloader_op = kfp.components.load_component_from_url(\n",
    "            'https://raw.githubusercontent.com/kubeflow/pipelines/master/components/contrib/web/Download/component.yaml')\n",
    "split_op = kfp.components.load_component_from_file(\"component.yaml\")"
   ]
  },
  {
   "cell_type": "code",
   "execution_count": null,
   "id": "b577a7a1-9830-4330-bc84-c43222916539",
   "metadata": {},
   "outputs": [],
   "source": [
    "from kubernetes.client.models import V1EnvVar\n",
    "from kfp.onprem import use_k8s_secret\n",
    "\n",
    "@dsl.pipeline(\n",
    "    name=\"custom\",\n",
    "    description=\"CUSTOM pipeline\",\n",
    ")\n",
    "def custom_component(url):\n",
    "    web_downloader_task = web_downloader_op(url=url)\n",
    "    split_task = split_op(dataset_csv=web_downloader_task.outputs['data'], ratio=0.7)"
   ]
  },
  {
   "cell_type": "code",
   "execution_count": null,
   "id": "957816ff-f021-47fd-8b87-5fa494fa0266",
   "metadata": {},
   "outputs": [],
   "source": [
    "client = kfp.Client()"
   ]
  },
  {
   "cell_type": "code",
   "execution_count": null,
   "id": "9a9492d8-0658-473f-8d21-8b3238b29860",
   "metadata": {},
   "outputs": [],
   "source": [
    "client.create_run_from_pipeline_func(\n",
    "    custom_component,\n",
    "    arguments={\n",
    "        \"url\": \"https://raw.githubusercontent.com/Barteus/kubeflow-examples/main/e2e-wine-kfp-mlflow/winequality-red.csv\",\n",
    "    })"
   ]
  },
  {
   "cell_type": "code",
   "execution_count": null,
   "id": "3de1bdb4-d133-4302-8fa0-8405ebfa6998",
   "metadata": {},
   "outputs": [],
   "source": []
  }
 ],
 "metadata": {
  "kernelspec": {
   "display_name": "Python 3",
   "language": "python",
   "name": "python3"
  },
  "language_info": {
   "codemirror_mode": {
    "name": "ipython",
    "version": 3
   },
   "file_extension": ".py",
   "mimetype": "text/x-python",
   "name": "python",
   "nbconvert_exporter": "python",
   "pygments_lexer": "ipython3",
   "version": "3.8.10"
  }
 },
 "nbformat": 4,
 "nbformat_minor": 5
}
