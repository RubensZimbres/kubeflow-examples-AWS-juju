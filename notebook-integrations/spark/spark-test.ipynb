{
 "cells": [
  {
   "cell_type": "code",
   "execution_count": null,
   "id": "2f71f953-dcb7-49b9-a6b9-cf13e562629e",
   "metadata": {},
   "outputs": [],
   "source": [
    "!cat jupyter-spark-service.yaml \\\n",
    "  | sed \"s/<NOTEBOOK_NAME>/$(hostname | awk -F '-' '{OFS=FS;NF=NF-1;print $0}')/g\" \\\n",
    "  | sed \"s/<NAMESPACE>/$(cat /var/run/secrets/kubernetes.io/serviceaccount/namespace)/g\" \\\n",
    "  | kubectl apply -n \"$(cat  /var/run/secrets/kubernetes.io/serviceaccount/namespace)\" -f -"
   ]
  },
  {
   "cell_type": "code",
   "execution_count": null,
   "id": "33fb1831-9513-4b33-a677-d02b971307c8",
   "metadata": {},
   "outputs": [],
   "source": [
    "!kubectl apply -n \"$(cat /var/run/secrets/kubernetes.io/serviceaccount/namespace)\" -f spark-user.yaml"
   ]
  },
  {
   "cell_type": "code",
   "execution_count": null,
   "id": "7a32a05a-a7a0-4e4c-acd8-965ed867e6c0",
   "metadata": {},
   "outputs": [],
   "source": [
    "!java --version"
   ]
  },
  {
   "cell_type": "code",
   "execution_count": null,
   "id": "8183c72a-165f-4e21-bfff-df1627f405cc",
   "metadata": {},
   "outputs": [],
   "source": [
    "!python --version"
   ]
  },
  {
   "cell_type": "code",
   "execution_count": null,
   "id": "a43d298c-948b-48fa-bf35-9197c8565688",
   "metadata": {},
   "outputs": [],
   "source": [
    "# !pip install pyspark==3.2.1 --user -q\n",
    "!conda install -c conda-forge pyspark=3.2.1 -y -q"
   ]
  },
  {
   "cell_type": "code",
   "execution_count": null,
   "id": "f6cdbc7f-8550-411c-b037-c0efbcae4b97",
   "metadata": {
    "tags": []
   },
   "outputs": [],
   "source": [
    "import pyspark\n",
    "import os\n",
    "from pyspark import SparkConf"
   ]
  },
  {
   "cell_type": "code",
   "execution_count": null,
   "id": "3d3acac4-f726-4205-8b61-fc58130cd162",
   "metadata": {},
   "outputs": [],
   "source": [
    "with open(\"/var/run/secrets/kubernetes.io/serviceaccount/token\", \"r\") as f:\n",
    "    auth_token = f.read()\n",
    "    assert auth_token is not None\n",
    "    \n",
    "master_ip=os.getenv(\"KUBERNETES_SERVICE_HOST\", \"kubernetes.default.svc\")\n",
    "master_port = os.getenv(\"KUBERNETES_SERVICE_PORT_HTTPS\", \"443\")\n",
    "master_url=f\"k8s://https://{master_ip}:{master_port}\"\n",
    "    \n",
    "container_image = \"datamechanics/spark:3.2.1-hadoop-3.3.1-java-8-scala-2.12-python-3.8-dm17\"\n",
    "    \n",
    "namespace = os.getenv(\"NB_PREFIX\").split(\"/\")[2]\n",
    "hostname = os.getenv(\"NB_PREFIX\").split(\"/\")[3]\n",
    "service_account = \"spark-user\"\n",
    "app_name = f\"{hostname}-app\"\n",
    "driver_host = f\"{hostname}-spark-svc\"\n",
    "\n",
    "minio_access_key = os.getenv(\"AWS_ACCESS_KEY_ID\")\n",
    "minio_secret_key = os.getenv(\"AWS_SECRET_ACCESS_KEY\")\n",
    "minio_url = os.getenv(\"MINIO_ENDPOINT_URL\")"
   ]
  },
  {
   "cell_type": "code",
   "execution_count": null,
   "id": "b50641ff-8acc-4c02-afc3-e3e11323f25f",
   "metadata": {},
   "outputs": [],
   "source": [
    "from pyspark.sql import SparkSession\n",
    "\n",
    "conf = SparkConf().setAppName(app_name).setMaster(master_url)\n",
    "conf.set('spark.jars.packages', 'org.apache.hadoop:hadoop-aws:3.3.1,')\n",
    "conf.set(\"spark.kubernetes.namespace\", namespace)\n",
    "conf.set(\"spark.kubernetes.authenticate.driver.serviceAccountName\", service_account)\n",
    "conf.set(\"spark.kubernetes.authenticate.driver.oauthToken\", auth_token)\n",
    "conf.set(\"spark.kubernetes.container.image\", container_image)\n",
    "conf.set(\"spark.kubernetes.allocation.batch.size\", \"5\")\n",
    "conf.set(\"spark.kubernetes.executor.instances\", \"1\")\n",
    "conf.set(\"spark.executor.instances\", 1)\n",
    "conf.set(\"spark.driver.bindAddress\", \"0.0.0.0\")\n",
    "conf.set(\"spark.driver.host\", driver_host)\n",
    "conf.set(\"spark.driver.port\", \"37371\")\n",
    "conf.set(\"spark.blockManager.port\", \"6060\")\n",
    "conf.set(\"spark.pyspark.python\", \"/opt/spark/python\")\n",
    "conf.set(\"spark.sql.repl.eagerEval.enabled\", True)\n",
    "\n",
    "conf.set(\"fs.s3a.access.key\", minio_access_key)\n",
    "conf.set(\"fs.s3a.secret.key\", minio_secret_key)\n",
    "conf.set(\"fs.s3a.endpoint\", minio_url)\n",
    "conf.set(\"fs.s3a.path.style.access\", \"true\")\n",
    "conf.set(\"fs.s3a.connection.ssl.enabled\", \"false\")\n",
    "conf.set(\"fs.s3a.impl\", \"org.apache.hadoop.fs.s3a.S3AFileSystem\")\n",
    "conf.set(\"fs.s3a.connection.ssl.enabled\", \"false\")\n",
    "\n",
    "spark = SparkSession.builder.config(conf=conf).getOrCreate()\n",
    "spark"
   ]
  },
  {
   "cell_type": "code",
   "execution_count": null,
   "id": "feb5a580-1c4b-49c1-8cb3-70c0594294ea",
   "metadata": {},
   "outputs": [],
   "source": [
    "# Create a list of numbers\n",
    "numbers = [1, 2, 3, 4, 5]\n",
    "\n",
    "# Create a DataFrame from the list of numbers\n",
    "df = spark.createDataFrame([(num,) for num in numbers], [\"number\"])\n",
    "\n",
    "# Use Spark DataFrame API to calculate the sum of the numbers\n",
    "sum_df = df.agg({\"number\": \"sum\"})\n",
    "\n",
    "# Extract the sum value from the DataFrame\n",
    "sum_value = sum_df.first()[0]\n",
    "\n",
    "# Print the sum\n",
    "print(\"Sum of numbers:\", sum_value)"
   ]
  },
  {
   "cell_type": "code",
   "execution_count": null,
   "id": "8da0aecb-8969-46a7-8e39-d134be9f37b3",
   "metadata": {},
   "outputs": [],
   "source": [
    "df = spark.read.option(\"delimiter\", \";\").csv(\"s3a://tests/sample.csv\", header=True, inferSchema=True)\n",
    "df.show()"
   ]
  },
  {
   "cell_type": "code",
   "execution_count": null,
   "id": "7c520d7c-7480-4194-824a-211502f0756b",
   "metadata": {},
   "outputs": [],
   "source": [
    "spark.stop()"
   ]
  },
  {
   "cell_type": "code",
   "execution_count": null,
   "id": "8693eb8f-3252-4e09-91e2-e562974ad05b",
   "metadata": {},
   "outputs": [],
   "source": [
    "!which python"
   ]
  },
  {
   "cell_type": "code",
   "execution_count": null,
   "id": "ba54d0d4-49cb-496b-9e82-6c15ea350481",
   "metadata": {},
   "outputs": [],
   "source": [
    "!which java"
   ]
  },
  {
   "cell_type": "raw",
   "id": "ea8b9e25-3bbf-4fe5-94a6-0a4848bb67c1",
   "metadata": {},
   "source": []
  }
 ],
 "metadata": {
  "kernelspec": {
   "display_name": "Python 3",
   "language": "python",
   "name": "python3"
  },
  "language_info": {
   "codemirror_mode": {
    "name": "ipython",
    "version": 3
   },
   "file_extension": ".py",
   "mimetype": "text/x-python",
   "name": "python",
   "nbconvert_exporter": "python",
   "pygments_lexer": "ipython3",
   "version": "3.8.10"
  }
 },
 "nbformat": 4,
 "nbformat_minor": 5
}
