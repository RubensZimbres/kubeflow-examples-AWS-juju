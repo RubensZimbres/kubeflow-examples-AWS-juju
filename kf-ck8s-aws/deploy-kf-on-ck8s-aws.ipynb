{
 "cells": [
  {
   "attachments": {},
   "cell_type": "markdown",
   "metadata": {
    "tags": [
     "text"
    ]
   },
   "source": [
    "# Deploy Charmed Kubeflow on Charmed Kubernetes cluster on AWS\n",
    "\n",
    "Contents:\n",
    "\n",
    "\n",
    "## Setup AWS cloud\n",
    "\n",
    "Follow [this guide](https://juju.is/docs/olm/amazon-aws) to setup AWS cloud and Juju controller.\n",
    "\n",
    "## Deploy Charmed Kubernetes cluster on AWS\n",
    "\n",
    "Checkout Charmed Kubernetes bundle release 1.24 and update cpu, disk, and memory constraints to satisfy Kubeflow requirements:"
   ]
  },
  {
   "cell_type": "code",
   "execution_count": null,
   "metadata": {
    "tags": [
     "code"
    ]
   },
   "outputs": [],
   "source": [
    "git clone https://github.com/charmed-kubernetes/bundle.git\n",
    "sed -i '/^ *charm: kubernetes-worker/,/^ *[^:]*:/s/constraints: cores=2 mem=8G root-disk=16G/constraints: cores=8 mem=32G root-disk=100G/' ./bundle/releases/1.24/bundle.yaml"
   ]
  },
  {
   "attachments": {},
   "cell_type": "markdown",
   "metadata": {
    "tags": [
     "text"
    ]
   },
   "source": [
    "Deploy updated Charmed Kubernetes bundle on AWS with storage overlay:"
   ]
  },
  {
   "cell_type": "code",
   "execution_count": null,
   "metadata": {
    "tags": [
     "code"
    ]
   },
   "outputs": [],
   "source": [
    "juju deploy ./bundle/releases/1.24/bundle.yaml --overlay ./bundle/overlays/aws-storage-overlay.yaml --trust\n",
    "juju scp kubernetes-control-plane/0:config ~/.kube/config\n",
    "juju add-k8s charmed-k8s-aws --controller $(juju switch | cut -d: -f1) --storage=cdk-ebs"
   ]
  },
  {
   "attachments": {},
   "cell_type": "markdown",
   "metadata": {
    "tags": [
     "text"
    ]
   },
   "source": [
    "## Deploy Charmed Kubeflow on created Charmed Kubernetes cluster on AWS\n",
    "\n",
    "Add `kubeflow` model to the controller and deploy Charmed Kubeflow version 1.7:"
   ]
  },
  {
   "cell_type": "code",
   "execution_count": null,
   "metadata": {
    "tags": [
     "code"
    ]
   },
   "outputs": [],
   "source": [
    "juju add-model kubeflow charmed-k8s-aws\n",
    "juju deploy kubeflow --channel 1.7/stable --trust"
   ]
  }
 ],
 "metadata": {
  "kernelspec": {
   "display_name": "Python 3",
   "language": "python",
   "name": "python3"
  },
  "language_info": {
   "name": "python",
   "version": "3.10.6"
  },
  "orig_nbformat": 4,
  "vscode": {
   "interpreter": {
    "hash": "e7370f93d1d0cde622a1f8e1c04877d8463912d04d973331ad4851f04de6915a"
   }
  }
 },
 "nbformat": 4,
 "nbformat_minor": 2
}
